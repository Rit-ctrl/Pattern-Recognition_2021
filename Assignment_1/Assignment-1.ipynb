{
  "nbformat": 4,
  "nbformat_minor": 0,
  "metadata": {
    "colab": {
      "name": "Assignment-1.ipynb",
      "provenance": [],
      "include_colab_link": true
    },
    "kernelspec": {
      "display_name": "Python 3",
      "language": "python",
      "name": "python3"
    },
    "language_info": {
      "codemirror_mode": {
        "name": "ipython",
        "version": 3
      },
      "file_extension": ".py",
      "mimetype": "text/x-python",
      "name": "python",
      "nbconvert_exporter": "python",
      "pygments_lexer": "ipython3",
      "version": "3.7.3"
    },
    "latex_envs": {
      "LaTeX_envs_menu_present": true,
      "autoclose": false,
      "autocomplete": true,
      "bibliofile": "biblio.bib",
      "cite_by": "apalike",
      "current_citInitial": 1,
      "eqLabelWithNumbers": true,
      "eqNumInitial": 1,
      "hotkeys": {
        "equation": "Ctrl-E",
        "itemize": "Ctrl-I"
      },
      "labels_anchors": false,
      "latex_user_defs": false,
      "report_style_numbering": false,
      "user_envs_cfg": false
    },
    "varInspector": {
      "cols": {
        "lenName": 16,
        "lenType": 16,
        "lenVar": 40
      },
      "kernels_config": {
        "python": {
          "delete_cmd_postfix": "",
          "delete_cmd_prefix": "del ",
          "library": "var_list.py",
          "varRefreshCmd": "print(var_dic_list())"
        },
        "r": {
          "delete_cmd_postfix": ") ",
          "delete_cmd_prefix": "rm(",
          "library": "var_list.r",
          "varRefreshCmd": "cat(var_dic_list()) "
        }
      },
      "types_to_exclude": [
        "module",
        "function",
        "builtin_function_or_method",
        "instance",
        "_Feature"
      ],
      "window_display": false
    }
  },
  "cells": [
    {
      "cell_type": "markdown",
      "metadata": {
        "id": "view-in-github",
        "colab_type": "text"
      },
      "source": [
        "<a href=\"https://colab.research.google.com/github/Rit-ctrl/Pattern-Recognition_2021/blob/main/Assignment_1/Assignment-1.ipynb\" target=\"_parent\"><img src=\"https://colab.research.google.com/assets/colab-badge.svg\" alt=\"Open In Colab\"/></a>"
      ]
    },
    {
      "cell_type": "markdown",
      "metadata": {
        "id": "SR0_hfJIn5bm"
      },
      "source": [
        "### Q1. Calculate the distance between the two normalized histograms H1 and H2 using each of the\n",
        "following methods:\n",
        "\n",
        "I. KL Distance\n",
        "\n",
        "II. Bhattacharyya Distance\n",
        "\n",
        "H1 = [ 0.24, 0.2, 0.16, 0.12, 0.08, 0.04, 0.12, 0.04]\n",
        "\n",
        "H2 = [ 0.22, 0.23, 0.16, 0.13, 0.11, 0.08, 0.05, 0.02]"
      ]
    },
    {
      "cell_type": "markdown",
      "metadata": {
        "id": "WTH-gEaMjOmJ"
      },
      "source": [
        "#### KL Distance -"
      ]
    },
    {
      "cell_type": "code",
      "metadata": {
        "id": "xs0_3hi0qHj7"
      },
      "source": [
        "import numpy as np\n",
        "\n",
        "def kl(p, q):\n",
        "    p = np.asarray(p, dtype=np.float)\n",
        "    q = np.asarray(q, dtype=np.float)\n",
        "\n",
        "    return np.sum(np.where(p != 0, p * np.log(p / q), 0))"
      ],
      "execution_count": 2,
      "outputs": []
    },
    {
      "cell_type": "code",
      "metadata": {
        "id": "9z-K_gW_jOmK",
        "outputId": "128ac8eb-8a94-47e1-cf09-5c93f326fb9a",
        "colab": {
          "base_uri": "https://localhost:8080/"
        }
      },
      "source": [
        "p = [ 0.24, 0.2, 0.16, 0.12, 0.08, 0.04, 0.12, 0.04]\n",
        "\n",
        "q = [ 0.22, 0.23, 0.16, 0.13, 0.11, 0.08, 0.05, 0.02]\n",
        "\n",
        "kl(p,q)"
      ],
      "execution_count": 3,
      "outputs": [
        {
          "output_type": "execute_result",
          "data": {
            "text/plain": [
              "0.06290516707464022"
            ]
          },
          "metadata": {
            "tags": []
          },
          "execution_count": 3
        }
      ]
    },
    {
      "cell_type": "code",
      "metadata": {
        "id": "wBsCoM35jTpS",
        "outputId": "727a35ee-5b4a-4535-ba43-807fa0ab5182",
        "colab": {
          "base_uri": "https://localhost:8080/"
        }
      },
      "source": [
        "#verification\n",
        "from scipy import special\n",
        "\n",
        "np.sum(scipy.special.rel_entr(p,q))\n"
      ],
      "execution_count": 5,
      "outputs": [
        {
          "output_type": "execute_result",
          "data": {
            "text/plain": [
              "0.06290516707464022"
            ]
          },
          "metadata": {
            "tags": []
          },
          "execution_count": 5
        }
      ]
    },
    {
      "cell_type": "markdown",
      "metadata": {
        "id": "rhw9kel2jOmM"
      },
      "source": [
        "#### Bhattacharyya Distance"
      ]
    },
    {
      "cell_type": "code",
      "metadata": {
        "id": "7pbnREEojOmM"
      },
      "source": [
        "from math import sqrt\n",
        "coeff = []\n",
        "\n",
        "def bhattacharya(p,q):\n",
        "    p = np.asarray(p, dtype=np.float)\n",
        "    q = np.asarray(q, dtype=np.float)\n",
        "\n",
        "    for i in range(0,len(p)):\n",
        "        coeff.append(sqrt(p[i]*q[i]))\n",
        "    \n",
        "    coeff_np = np.array(coeff)\n",
        "    return -1*np.log(np.sum(coeff_np))\n",
        "\n"
      ],
      "execution_count": 8,
      "outputs": []
    },
    {
      "cell_type": "code",
      "metadata": {
        "id": "RaQ6nG-2jOmM",
        "outputId": "206d1d75-7227-43e1-91a1-914333dbfcff",
        "colab": {
          "base_uri": "https://localhost:8080/"
        }
      },
      "source": [
        "bhattacharya(p,q)"
      ],
      "execution_count": 9,
      "outputs": [
        {
          "output_type": "execute_result",
          "data": {
            "text/plain": [
              "0.014830056106628986"
            ]
          },
          "metadata": {
            "tags": []
          },
          "execution_count": 9
        }
      ]
    },
    {
      "cell_type": "code",
      "metadata": {
        "id": "o4dEMh6GlCsY",
        "outputId": "e1cd9183-0062-45c2-f093-1a59f3f5f186",
        "colab": {
          "base_uri": "https://localhost:8080/"
        }
      },
      "source": [
        "#verification\n",
        "\n",
        "!pip install dictances\n",
        "import dictances\n",
        "a = {\n",
        "    \"event_1\": 0.24,\n",
        "    \"event_2\": 0.2,\n",
        "    \"event_3\": 0.16,\n",
        "    \"event_4\": 0.12,\n",
        "    \"event_5\": 0.08,\n",
        "    \"event_6\": 0.04,\n",
        "    \"event_7\": 0.12,\n",
        "    \"event_8\": 0.04,\n",
        "}\n",
        "b = {\n",
        "    \"event_1\": 0.22,\n",
        "    \"event_2\": 0.23,\n",
        "    \"event_3\": 0.16,\n",
        "    \"event_4\": 0.13,\n",
        "    \"event_5\": 0.11,\n",
        "    \"event_6\": 0.08,\n",
        "    \"event_7\": 0.05,\n",
        "    \"event_8\": 0.02,\n",
        "}\n",
        "\n",
        "dictances.bhattacharyya(a,b)"
      ],
      "execution_count": 15,
      "outputs": [
        {
          "output_type": "stream",
          "text": [
            "Requirement already satisfied: dictances in /usr/local/lib/python3.6/dist-packages (1.5.3)\n"
          ],
          "name": "stdout"
        },
        {
          "output_type": "execute_result",
          "data": {
            "text/plain": [
              "0.014830056106628874"
            ]
          },
          "metadata": {
            "tags": []
          },
          "execution_count": 15
        }
      ]
    },
    {
      "cell_type": "markdown",
      "metadata": {
        "id": "quAqXuwBpPIS"
      },
      "source": [
        "### Q2. Given (hq-ht)​ T​ ​ = (0.5 0.5 -0.5 -0.25 -0.25) and \n",
        "\n",
        "A = [ \n",
        "\n",
        "[1,0.135,0.195,0.137,0.157],\n",
        "\n",
        "[0.135,1,0.2,0.309,0.143],\n",
        "\n",
        "[0.195,0.2,1,0.157,0.122],\n",
        "\n",
        "[0.137,0.309,0.157,1,0.195],\n",
        "\n",
        "[0.157,0.143,0.122,0.195,1] \n",
        "\n",
        "]\n",
        "\n",
        "Find the quadratic form distance."
      ]
    },
    {
      "cell_type": "code",
      "metadata": {
        "id": "OfSMICIGn5b1"
      },
      "source": [
        "import numpy as np"
      ],
      "execution_count": 33,
      "outputs": []
    },
    {
      "cell_type": "code",
      "metadata": {
        "id": "aaPufKjJjOmO"
      },
      "source": [
        "hq_ht_T = np.array([0.5, 0.5, -0.5, -0.25, -0.25])\n",
        "A = np.array([[1,0.135,0.195,0.137,0.157],[0.135,1,0.2,0.309,0.143],[0.195,0.2,1,0.157,0.122],[0.137,0.309,0.157,1,0.195],[0.157,0.143,0.122,0.195,1]])\n",
        "hq_ht = hq_ht_T[...,None]"
      ],
      "execution_count": 34,
      "outputs": []
    },
    {
      "cell_type": "code",
      "metadata": {
        "id": "aJX-JBwNuelK",
        "outputId": "ee131cb2-2b0a-4a2e-9d7d-454c5821fd88",
        "colab": {
          "base_uri": "https://localhost:8080/"
        }
      },
      "source": [
        "print(hq_ht,\"\\n\\n\",hq_ht_T,\"\\n\\n\",A)"
      ],
      "execution_count": 35,
      "outputs": [
        {
          "output_type": "stream",
          "text": [
            "[[ 0.5 ]\n",
            " [ 0.5 ]\n",
            " [-0.5 ]\n",
            " [-0.25]\n",
            " [-0.25]] \n",
            "\n",
            " [ 0.5   0.5  -0.5  -0.25 -0.25] \n",
            "\n",
            " [[1.    0.135 0.195 0.137 0.157]\n",
            " [0.135 1.    0.2   0.309 0.143]\n",
            " [0.195 0.2   1.    0.157 0.122]\n",
            " [0.137 0.309 0.157 1.    0.195]\n",
            " [0.157 0.143 0.122 0.195 1.   ]]\n"
          ],
          "name": "stdout"
        }
      ]
    },
    {
      "cell_type": "code",
      "metadata": {
        "id": "6NhqgfhpjOmO",
        "outputId": "5ac829c6-e982-45ab-8944-5db251b6ab6d",
        "colab": {
          "base_uri": "https://localhost:8080/"
        }
      },
      "source": [
        "x = hq_ht_T.dot(A)\n",
        "quadratic_form_distance = x.dot(hq_ht)\n",
        "print(quadratic_form_distance)"
      ],
      "execution_count": 36,
      "outputs": [
        {
          "output_type": "stream",
          "text": [
            "[0.652625]\n"
          ],
          "name": "stdout"
        }
      ]
    },
    {
      "cell_type": "code",
      "metadata": {
        "id": "Sp3oPVgQuIti",
        "outputId": "b49f596f-7b37-4aa4-fad8-697df77c71fb",
        "colab": {
          "base_uri": "https://localhost:8080/"
        }
      },
      "source": [
        "#easier way\n",
        "hq_ht_T @ A @ hq_ht"
      ],
      "execution_count": 37,
      "outputs": [
        {
          "output_type": "execute_result",
          "data": {
            "text/plain": [
              "array([0.652625])"
            ]
          },
          "metadata": {
            "tags": []
          },
          "execution_count": 37
        }
      ]
    },
    {
      "cell_type": "markdown",
      "metadata": {
        "id": "R8X-0g3aqOAF"
      },
      "source": [
        "### Q3. Compare two text files doc1.txt and doc2.txt using cosine distance.\n",
        "\n",
        "doc1.txt\n",
        "\n",
        "MATLAB is a program for solving engineering and mathematical problems. The basic\n",
        "MATLAB objects are vectors and matrices, so you must be familiar with these before making extensive use of this program.\n",
        "\n",
        "doc2.txt\n",
        "\n",
        "MATLAB works with essentially one kind of object, a rectangular numerical matrix. Here is\n",
        "some basic information on using MATLAB matrix commands."
      ]
    },
    {
      "cell_type": "code",
      "metadata": {
        "id": "icVU0TjRokUi"
      },
      "source": [
        "doc1=\"MATLAB is a program for solving engineering and mathematical problems. The basic MATLAB objects are vectors and matrices, so you must be familiar with these before making extensive use of this program.\""
      ],
      "execution_count": 38,
      "outputs": []
    },
    {
      "cell_type": "code",
      "metadata": {
        "id": "XVh3-uEjvSF5"
      },
      "source": [
        "doc2=\"MATLAB works with essentially one kind of object, a rectangular numerical matrix. Here is some basic information on using MATLAB matrix commands.\""
      ],
      "execution_count": 39,
      "outputs": []
    },
    {
      "cell_type": "code",
      "metadata": {
        "id": "OFTolEtVvYWU"
      },
      "source": [
        "from sklearn.feature_extraction.text import CountVectorizer\n",
        "import pandas as pd\n",
        "import numpy as np\n",
        "\n",
        "count_vectorizer=CountVectorizer(stop_words='english')\n",
        "\n",
        "documents=[doc1,doc2]\n",
        "\n",
        "sparse_matrix=count_vectorizer.fit_transform(documents)"
      ],
      "execution_count": 78,
      "outputs": []
    },
    {
      "cell_type": "code",
      "metadata": {
        "id": "eCM1y6-QwE8z",
        "outputId": "43474aec-d3af-42bb-cfbb-0d526da3ed7a",
        "colab": {
          "base_uri": "https://localhost:8080/",
          "height": 126
        }
      },
      "source": [
        "doc_term_matrix = sparse_matrix.todense() ## to dense allocates memory even for missing values (sparse doesnt)\n",
        "df = pd.DataFrame(doc_term_matrix, \n",
        "                  columns=count_vectorizer.get_feature_names(), \n",
        "                  index=['doc1', 'doc2'])\n",
        "df"
      ],
      "execution_count": 79,
      "outputs": [
        {
          "output_type": "execute_result",
          "data": {
            "text/html": [
              "<div>\n",
              "<style scoped>\n",
              "    .dataframe tbody tr th:only-of-type {\n",
              "        vertical-align: middle;\n",
              "    }\n",
              "\n",
              "    .dataframe tbody tr th {\n",
              "        vertical-align: top;\n",
              "    }\n",
              "\n",
              "    .dataframe thead th {\n",
              "        text-align: right;\n",
              "    }\n",
              "</style>\n",
              "<table border=\"1\" class=\"dataframe\">\n",
              "  <thead>\n",
              "    <tr style=\"text-align: right;\">\n",
              "      <th></th>\n",
              "      <th>basic</th>\n",
              "      <th>commands</th>\n",
              "      <th>engineering</th>\n",
              "      <th>essentially</th>\n",
              "      <th>extensive</th>\n",
              "      <th>familiar</th>\n",
              "      <th>information</th>\n",
              "      <th>kind</th>\n",
              "      <th>making</th>\n",
              "      <th>mathematical</th>\n",
              "      <th>matlab</th>\n",
              "      <th>matrices</th>\n",
              "      <th>matrix</th>\n",
              "      <th>numerical</th>\n",
              "      <th>object</th>\n",
              "      <th>objects</th>\n",
              "      <th>problems</th>\n",
              "      <th>program</th>\n",
              "      <th>rectangular</th>\n",
              "      <th>solving</th>\n",
              "      <th>use</th>\n",
              "      <th>using</th>\n",
              "      <th>vectors</th>\n",
              "      <th>works</th>\n",
              "    </tr>\n",
              "  </thead>\n",
              "  <tbody>\n",
              "    <tr>\n",
              "      <th>doc1</th>\n",
              "      <td>1</td>\n",
              "      <td>0</td>\n",
              "      <td>1</td>\n",
              "      <td>0</td>\n",
              "      <td>1</td>\n",
              "      <td>1</td>\n",
              "      <td>0</td>\n",
              "      <td>0</td>\n",
              "      <td>1</td>\n",
              "      <td>1</td>\n",
              "      <td>2</td>\n",
              "      <td>1</td>\n",
              "      <td>0</td>\n",
              "      <td>0</td>\n",
              "      <td>0</td>\n",
              "      <td>1</td>\n",
              "      <td>1</td>\n",
              "      <td>2</td>\n",
              "      <td>0</td>\n",
              "      <td>1</td>\n",
              "      <td>1</td>\n",
              "      <td>0</td>\n",
              "      <td>1</td>\n",
              "      <td>0</td>\n",
              "    </tr>\n",
              "    <tr>\n",
              "      <th>doc2</th>\n",
              "      <td>1</td>\n",
              "      <td>1</td>\n",
              "      <td>0</td>\n",
              "      <td>1</td>\n",
              "      <td>0</td>\n",
              "      <td>0</td>\n",
              "      <td>1</td>\n",
              "      <td>1</td>\n",
              "      <td>0</td>\n",
              "      <td>0</td>\n",
              "      <td>2</td>\n",
              "      <td>0</td>\n",
              "      <td>2</td>\n",
              "      <td>1</td>\n",
              "      <td>1</td>\n",
              "      <td>0</td>\n",
              "      <td>0</td>\n",
              "      <td>0</td>\n",
              "      <td>1</td>\n",
              "      <td>0</td>\n",
              "      <td>0</td>\n",
              "      <td>1</td>\n",
              "      <td>0</td>\n",
              "      <td>1</td>\n",
              "    </tr>\n",
              "  </tbody>\n",
              "</table>\n",
              "</div>"
            ],
            "text/plain": [
              "      basic  commands  engineering  essentially  ...  use  using  vectors  works\n",
              "doc1      1         0            1            0  ...    1      0        1      0\n",
              "doc2      1         1            0            1  ...    0      1        0      1\n",
              "\n",
              "[2 rows x 24 columns]"
            ]
          },
          "metadata": {
            "tags": []
          },
          "execution_count": 79
        }
      ]
    },
    {
      "cell_type": "code",
      "metadata": {
        "id": "8UlBMFuUysju",
        "outputId": "1115bc54-6b85-44d9-cd56-1a383b3aa025",
        "colab": {
          "base_uri": "https://localhost:8080/"
        }
      },
      "source": [
        "d1_dot_d2=np.dot(np.asarray(doc_term_matrix)[0],np.asarray(doc_term_matrix)[1])\n",
        "d1_norm=np.linalg.norm(np.asarray(doc_term_matrix)[0])\n",
        "d2_norm=np.linalg.norm(np.asarray(doc_term_matrix)[1])\n",
        "cosine_sim=d1_dot_d2/(d1_norm * d2_norm)\n",
        "\n",
        "print(f\"Cosine similarity : {cosine_sim}, Cosine distance : {1-cosine_sim}\")"
      ],
      "execution_count": 108,
      "outputs": [
        {
          "output_type": "stream",
          "text": [
            "Cosine similarity : 0.26352313834736496, Cosine distance : 0.736476861652635\n"
          ],
          "name": "stdout"
        }
      ]
    },
    {
      "cell_type": "code",
      "metadata": {
        "id": "Dht01r35yD5q",
        "outputId": "02c68f1b-f5aa-441f-befb-710551acb2a4",
        "colab": {
          "base_uri": "https://localhost:8080/"
        }
      },
      "source": [
        "#verification\n",
        "from sklearn.metrics.pairwise import cosine_similarity\n",
        "q3_res=cosine_similarity(doc_term_matrix[0],doc_term_matrix[1])\n",
        "\n",
        "print(f\"Cosine similarity :{q3_res[0][0]} , cosine distance :{1-q3_res[0][0]}\")"
      ],
      "execution_count": 115,
      "outputs": [
        {
          "output_type": "stream",
          "text": [
            "Cosine similarity :0.26352313834736496 , cosine distance :0.736476861652635\n"
          ],
          "name": "stdout"
        }
      ]
    },
    {
      "cell_type": "markdown",
      "metadata": {
        "id": "_pnWezspqYJ9"
      },
      "source": [
        "### Q4. Classify flower 0, 50, and 100 from the Iris Dataset (.csv file) attached along with the assignment document into one of the three classes as given in dataset specification:\n",
        "\n",
        "- Dataset Specifications:\n",
        "\n",
        "  Total number of samples = 150\n",
        "  Number of classes = 3 (Iris setosa, Iris virginica, and Iris versicolor)\n",
        "  The number of samples in each class = 50.\n",
        "  \n",
        "\n",
        "- Directions to classify:\n",
        "\n",
        "  1. Use features PetalLengthCm and PetalWidthCm only for classification.\n",
        "  2. Consider flowers 0,50 and 100 as test cases.\n",
        "  3. Plot the distribution of rest 147 sample points along with their classes( differentiate\n",
        "  classes with different colour). Consider PetalWidthCm along Y-axis and PetalLengthCm\n",
        "  along X-axis.\n",
        "  4. Capture the properties of the distribution and use suitable distance metrics to classify the\n",
        "  flowers 0,50 and 100 into one of the classes.\n",
        "  5. Print their class and plot the points on the previous plot with a marker differentiating the\n",
        "  three points. "
      ]
    },
    {
      "cell_type": "code",
      "metadata": {
        "id": "fGdmltABqdMe"
      },
      "source": [
        ""
      ],
      "execution_count": null,
      "outputs": []
    },
    {
      "cell_type": "markdown",
      "metadata": {
        "id": "0Cc4_XLuqzjN"
      },
      "source": [
        "### Q5. Consider the following images. Obtain the histograms for each of the images. Using a suitable distance measure, find the distance between the query image and reference images."
      ]
    },
    {
      "cell_type": "code",
      "metadata": {
        "id": "d-CcSIuPq02h"
      },
      "source": [
        ""
      ],
      "execution_count": null,
      "outputs": []
    }
  ]
}