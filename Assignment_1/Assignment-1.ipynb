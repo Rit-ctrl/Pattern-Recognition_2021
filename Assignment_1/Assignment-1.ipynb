{
  "nbformat": 4,
  "nbformat_minor": 0,
  "metadata": {
    "kernelspec": {
      "display_name": "Python 3",
      "language": "python",
      "name": "python3"
    },
    "language_info": {
      "codemirror_mode": {
        "name": "ipython",
        "version": 3
      },
      "file_extension": ".py",
      "mimetype": "text/x-python",
      "name": "python",
      "nbconvert_exporter": "python",
      "pygments_lexer": "ipython3",
      "version": "3.7.6"
    },
    "latex_envs": {
      "LaTeX_envs_menu_present": true,
      "autoclose": false,
      "autocomplete": true,
      "bibliofile": "biblio.bib",
      "cite_by": "apalike",
      "current_citInitial": 1,
      "eqLabelWithNumbers": true,
      "eqNumInitial": 1,
      "hotkeys": {
        "equation": "Ctrl-E",
        "itemize": "Ctrl-I"
      },
      "labels_anchors": false,
      "latex_user_defs": false,
      "report_style_numbering": false,
      "user_envs_cfg": false
    },
    "varInspector": {
      "cols": {
        "lenName": 16,
        "lenType": 16,
        "lenVar": 40
      },
      "kernels_config": {
        "python": {
          "delete_cmd_postfix": "",
          "delete_cmd_prefix": "del ",
          "library": "var_list.py",
          "varRefreshCmd": "print(var_dic_list())"
        },
        "r": {
          "delete_cmd_postfix": ") ",
          "delete_cmd_prefix": "rm(",
          "library": "var_list.r",
          "varRefreshCmd": "cat(var_dic_list()) "
        }
      },
      "types_to_exclude": [
        "module",
        "function",
        "builtin_function_or_method",
        "instance",
        "_Feature"
      ],
      "window_display": false
    },
    "colab": {
      "name": "Assignment-1.ipynb",
      "provenance": [],
      "include_colab_link": true
    }
  },
  "cells": [
    {
      "cell_type": "markdown",
      "metadata": {
        "id": "view-in-github",
        "colab_type": "text"
      },
      "source": [
        "<a href=\"https://colab.research.google.com/github/Rit-ctrl/Pattern-Recognition_2021/blob/main/Assignment_1/Assignment-1.ipynb\" target=\"_parent\"><img src=\"https://colab.research.google.com/assets/colab-badge.svg\" alt=\"Open In Colab\"/></a>"
      ]
    },
    {
      "cell_type": "markdown",
      "metadata": {
        "id": "SR0_hfJIn5bm"
      },
      "source": [
        "Q1. Calculate the distance between the two normalized histograms H1 and H2 using each of the\n",
        "following methods:\n",
        "\n",
        "I. KL Distance\n",
        "\n",
        "II. Bhattacharyya Distance\n",
        "\n",
        "H1 = [ 0.24, 0.2, 0.16, 0.12, 0.08, 0.04, 0.12, 0.04]\n",
        "\n",
        "H2 = [ 0.22, 0.23, 0.16, 0.13, 0.11, 0.08, 0.05, 0.02]"
      ]
    },
    {
      "cell_type": "code",
      "metadata": {
        "id": "xs0_3hi0qHj7"
      },
      "source": [
        ""
      ],
      "execution_count": null,
      "outputs": []
    },
    {
      "cell_type": "markdown",
      "metadata": {
        "id": "quAqXuwBpPIS"
      },
      "source": [
        "Q2. Given (hq-ht)​ T​ ​ = (0.5 0.5 -0.5 -0.25 -0.25) and \n",
        "\n",
        "A = [ \n",
        "\n",
        "[1,0.135,0.195,9.127,0.157],\n",
        "\n",
        "[0.135,1,0.2,0.309,0.143],\n",
        "\n",
        "[0.195,0.2,1,0.157,0.122],\n",
        "\n",
        "[0.137,0.309,0.157,1,0.195],\n",
        "\n",
        "[0.157,0.143,0.122,0.195,1] \n",
        "\n",
        "]\n",
        "\n",
        "Find the quadratic form distance."
      ]
    },
    {
      "cell_type": "code",
      "metadata": {
        "id": "OfSMICIGn5b1"
      },
      "source": [
        ""
      ],
      "execution_count": 1,
      "outputs": []
    },
    {
      "cell_type": "markdown",
      "metadata": {
        "id": "R8X-0g3aqOAF"
      },
      "source": [
        "Q3. Compare two text files doc1.txt and doc2.txt using cosine distance.\n",
        "\n",
        "doc1.txt\n",
        "\n",
        "MATLAB is a program for solving engineering and mathematical problems. The basic\n",
        "MATLAB objects are vectors and matrices, so you must be familiar with these before making extensive use of this program.\n",
        "\n",
        "doc2.txt\n",
        "\n",
        "MATLAB works with essentially one kind of object, a rectangular numerical matrix. Here is\n",
        "some basic information on using MATLAB matrix commands."
      ]
    },
    {
      "cell_type": "code",
      "metadata": {
        "id": "icVU0TjRokUi"
      },
      "source": [
        ""
      ],
      "execution_count": null,
      "outputs": []
    },
    {
      "cell_type": "markdown",
      "metadata": {
        "id": "_pnWezspqYJ9"
      },
      "source": [
        "Q4. Classify flower 0, 50, and 100 from the Iris Dataset (.csv file) attached along with the assignment document into one of the three classes as given in dataset specification:\n",
        "\n",
        "- Dataset Specifications:\n",
        "\n",
        "  Total number of samples = 150\n",
        "  Number of classes = 3 (Iris setosa, Iris virginica, and Iris versicolor)\n",
        "  The number of samples in each class = 50.\n",
        "\n",
        "- Directions to classify:\n",
        "\n",
        "  1. Use features PetalLengthCm and PetalWidthCm only for classification.\n",
        "  2. Consider flowers 0,50 and 100 as test cases.\n",
        "  3. Plot the distribution of rest 147 sample points along with their classes( differentiate\n",
        "  classes with different colour). Consider PetalWidthCm along Y-axis and PetalLengthCm\n",
        "  along X-axis.\n",
        "  4. Capture the properties of the distribution and use suitable distance metrics to classify the\n",
        "  flowers 0,50 and 100 into one of the classes.\n",
        "  5. Print their class and plot the points on the previous plot with a marker differentiating the\n",
        "  three points."
      ]
    },
    {
      "cell_type": "code",
      "metadata": {
        "id": "fGdmltABqdMe"
      },
      "source": [
        ""
      ],
      "execution_count": null,
      "outputs": []
    },
    {
      "cell_type": "markdown",
      "metadata": {
        "id": "0Cc4_XLuqzjN"
      },
      "source": [
        "Q5. Consider the following images. Obtain the histograms for each of the images. Using a suitable distance measure, find the distance between the query image and reference images."
      ]
    },
    {
      "cell_type": "code",
      "metadata": {
        "id": "d-CcSIuPq02h"
      },
      "source": [
        ""
      ],
      "execution_count": null,
      "outputs": []
    }
  ]
}