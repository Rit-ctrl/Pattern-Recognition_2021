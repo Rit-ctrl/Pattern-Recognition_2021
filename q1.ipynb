{
  "nbformat": 4,
  "nbformat_minor": 0,
  "metadata": {
    "colab": {
      "name": "q1.ipynb",
      "provenance": [],
      "collapsed_sections": [],
      "authorship_tag": "ABX9TyPE9N3nFtSEqy5AD8ukh+xg",
      "include_colab_link": true
    },
    "kernelspec": {
      "name": "python3",
      "display_name": "Python 3"
    }
  },
  "cells": [
    {
      "cell_type": "markdown",
      "metadata": {
        "id": "view-in-github",
        "colab_type": "text"
      },
      "source": [
        "<a href=\"https://colab.research.google.com/github/Rit-ctrl/Pattern-Recognition_2021/blob/main/q1.ipynb\" target=\"_parent\"><img src=\"https://colab.research.google.com/assets/colab-badge.svg\" alt=\"Open In Colab\"/></a>"
      ]
    },
    {
      "cell_type": "markdown",
      "metadata": {
        "id": "iyyZqhZK2Odv"
      },
      "source": [
        "# Q1. Find and plot the decision boundary between class ω1 and ω2. Assume P(ω1) = P(ω2).\r\n",
        "\r\n",
        "ω1 = [1,6; 3,4; 3,8; 5,6]\r\n",
        "\r\n",
        "ω2 = [3,0; 1,-2;3,-4;5,-2]\r\n",
        "\r\n"
      ]
    },
    {
      "cell_type": "code",
      "metadata": {
        "id": "FGFTrKDV2H-F"
      },
      "source": [
        "\r\n",
        "w1 = [[1,6], [3,4], [3,8], [5,6]]\r\n",
        "\r\n",
        "w2 = [[3,0], [1,-2],[3,-4],[5,-2]]"
      ],
      "execution_count": 9,
      "outputs": []
    },
    {
      "cell_type": "code",
      "metadata": {
        "id": "-zzIHB-A_uZF"
      },
      "source": [
        "import numpy as np\r\n",
        "import matplotlib.pyplot as plt\r\n",
        "import pandas as pd\r\n"
      ],
      "execution_count": 10,
      "outputs": []
    },
    {
      "cell_type": "code",
      "metadata": {
        "id": "9PkY4kID_8i2"
      },
      "source": [
        "w1=pd.DataFrame(data=w1,columns=['x','y'])\r\n",
        "w2=pd.DataFrame(data=w2,columns=['x','y'])\r\n",
        "\r\n",
        "#converting to pandas dataframe for ease of access and plotting"
      ],
      "execution_count": 12,
      "outputs": []
    },
    {
      "cell_type": "code",
      "metadata": {
        "colab": {
          "base_uri": "https://localhost:8080/",
          "height": 570
        },
        "id": "htjhwJhAAeEj",
        "outputId": "7cd7e14f-285d-4881-e4a6-b4eadf3c86e3"
      },
      "source": [
        "print(\"Class w1 \\n\",w1)\r\n",
        "print(\"\\n\")\r\n",
        "print(\"Class w2 \\n\",w2)\r\n",
        "print(\"\\n\")\r\n",
        "\r\n",
        "plt.scatter(x=w1['x'],y=w1['y'],label=\"Class w1\")\r\n",
        "plt.scatter(x=w2['x'],y=w2['y'],label=\"Class w2\")\r\n",
        "plt.legend()\r\n",
        "plt.title(\"2 classes \")"
      ],
      "execution_count": 26,
      "outputs": [
        {
          "output_type": "stream",
          "text": [
            "Class w1 \n",
            "    x  y\n",
            "0  1  6\n",
            "1  3  4\n",
            "2  3  8\n",
            "3  5  6\n",
            "\n",
            "\n",
            "Class w2 \n",
            "    x  y\n",
            "0  3  0\n",
            "1  1 -2\n",
            "2  3 -4\n",
            "3  5 -2\n",
            "\n",
            "\n"
          ],
          "name": "stdout"
        },
        {
          "output_type": "execute_result",
          "data": {
            "text/plain": [
              "Text(0.5, 1.0, '2 classes ')"
            ]
          },
          "metadata": {
            "tags": []
          },
          "execution_count": 26
        },
        {
          "output_type": "display_data",
          "data": {
            "image/png": "[encoded data removed]",
            "text/plain": [
              "<Figure size 432x288 with 1 Axes>"
            ]
          },
          "metadata": {
            "tags": [],
            "needs_background": "light"
          }
        }
      ]
    },
    {
      "cell_type": "markdown",
      "metadata": {
        "id": "pMaW48jBCzH3"
      },
      "source": [
        "## Calc mean and covariance"
      ]
    },
    {
      "cell_type": "code",
      "metadata": {
        "colab": {
          "base_uri": "https://localhost:8080/"
        },
        "id": "BzyYU0aDCslD",
        "outputId": "0e32fef1-cac4-4ce9-b2c9-ed89681f47e0"
      },
      "source": [
        "#mean\r\n",
        "w1_mean=w1.mean().to_numpy()\r\n",
        "w2_mean=w2.mean().to_numpy()\r\n",
        "\r\n",
        "print(w1_mean)\r\n",
        "print(w2_mean)"
      ],
      "execution_count": 60,
      "outputs": [
        {
          "output_type": "stream",
          "text": [
            "[3. 6.]\n",
            "[ 3. -2.]\n"
          ],
          "name": "stdout"
        }
      ]
    },
    {
      "cell_type": "code",
      "metadata": {
        "colab": {
          "base_uri": "https://localhost:8080/"
        },
        "id": "Xl6dWNLSDDZ2",
        "outputId": "706f9280-3b3a-4bf1-d705-6ea17881da1f"
      },
      "source": [
        "#covariance\r\n",
        "\r\n",
        "w1_cov=w1.cov().to_numpy()\r\n",
        "w2_cov=w2.cov().to_numpy()\r\n",
        "\r\n",
        "print(w1_cov)\r\n",
        "print(w2_cov)"
      ],
      "execution_count": 62,
      "outputs": [
        {
          "output_type": "stream",
          "text": [
            "[[2.66666667 0.        ]\n",
            " [0.         2.66666667]]\n",
            "[[2.66666667 0.        ]\n",
            " [0.         2.66666667]]\n"
          ],
          "name": "stdout"
        }
      ]
    },
    {
      "cell_type": "markdown",
      "metadata": {
        "id": "c_RS82sFIAjN"
      },
      "source": [
        "## Defining discriminant function"
      ]
    },
    {
      "cell_type": "markdown",
      "metadata": {
        "id": "vg9-78scCfzK"
      },
      "source": [
        "![g.JPG](data:image/jpeg;base64,/9j/4AAQSkZJRgABAQEAeAB4AAD/4RDgRXhpZgAATU0AKgAAAAgABAE7AAIAAAAHAAAISodpAAQAAAABAAAIUpydAAEAAAAOAAAQyuocAAcAAAgMAAAAPgAAAAAc6gAAAAgAAAAAAAAAAAAAAAAAAAAAAAAAAAAAAAAAAAAAAAAAAAAAAAAAAAAAAAAAAAAAAAAAAAAAAAAAAAAAAAAAAAAAAAAAAAAAAAAAAAAAAAAAAAAAAAAAAAAAAAAAAAAAAAAAAAAAAAAAAAAAAAAAAAAAAAAAAAAAAAAAAAAAAAAAAAAAAAAAAAAAAAAAAAAAAAAAAAAAAAAAAAAAAAAAAAAAAAAAAAAAAAAAAAAAAAAAAAAAAAAAAAAAAAAAAAAAAAAAAAAAAAAAAAAAAAAAAAAAAAAAAAAAAAAAAAAAAAAAAAAAAAAAAAAAAAAAAAAAAAAAAAAAAAAAAAAAAAAAAAAAAAAAAAAAAAAAAAAAAAAAAAAAAAAAAAAAAAAAAAAAAAAAAAAAAAAAAAAAAAAAAAAAAAAAAAAAAAAAAAAAAAAAAAAAAAAAAAAAAAAAAAAAAAAAAAAAAAAAAAAAAAAAAAAAAAAAAAAAAAAAAAAAAAAAAAAAAAAAAAAAAAAAAAAAAAAAAAAAAAAAAAAAAAAAAAAAAAAAAAAAAAAAAAAAAAAAAAAAAAAAAAAAAAAAAAAAAAAAAAAAAAAAAAAAAAAAAAAAAAAAAAAAAAAAAAAAAAAAAAAAAAAAAAAAAAAAAAAAAAAAAAAAAAAAAAAAAAAAAAAAAAAAAAAAAAAAAAAAAAAAAAAAAAAAAAAAAAAAAAAAAAAAAAAAAAAAAAAAAAAAAAAAAAAAAAAAAAAAAAAAAAAAAAAAAAAAAAAAAAAAAAAAAAAAAAAAAAAAAAAAAAAAAAAAAAAAAAAAAAAAAAAAAAAAAAAAAAAAAAAAAAAAAAAAAAAAAAAAAAAAAAAAAAAAAAAAAAAAAAAAAAAAAAAAAAAAAAAAAAAAAAAAAAAAAAAAAAAAAAAAAAAAAAAAAAAAAAAAAAAAAAAAAAAAAAAAAAAAAAAAAAAAAAAAAAAAAAAAAAAAAAAAAAAAAAAAAAAAAAAAAAAAAAAAAAAAAAAAAAAAAAAAAAAAAAAAAAAAAAAAAAAAAAAAAAAAAAAAAAAAAAAAAAAAAAAAAAAAAAAAAAAAAAAAAAAAAAAAAAAAAAAAAAAAAAAAAAAAAAAAAAAAAAAAAAAAAAAAAAAAAAAAAAAAAAAAAAAAAAAAAAAAAAAAAAAAAAAAAAAAAAAAAAAAAAAAAAAAAAAAAAAAAAAAAAAAAAAAAAAAAAAAAAAAAAAAAAAAAAAAAAAAAAAAAAAAAAAAAAAAAAAAAAAAAAAAAAAAAAAAAAAAAAAAAAAAAAAAAAAAAAAAAAAAAAAAAAAAAAAAAAAAAAAAAAAAAAAAAAAAAAAAAAAAAAAAAAAAAAAAAAAAAAAAAAAAAAAAAAAAAAAAAAAAAAAAAAAAAAAAAAAAAAAAAAAAAAAAAAAAAAAAAAAAAAAAAAAAAAAAAAAAAAAAAAAAAAAAAAAAAAAAAAAAAAAAAAAAAAAAAAAAAAAAAAAAAAAAAAAAAAAAAAAAAAAAAAAAAAAAAAAAAAAAAAAAAAAAAAAAAAAAAAAAAAAAAAAAAAAAAAAAAAAAAAAAAAAAAAAAAAAAAAAAAAAAAAAAAAAAAAAAAAAAAAAAAAAAAAAAAAAAAAAAAAAAAAAAAAAAAAAAAAAAAAAAAAAAAAAAAAAAAAAAAAAAAAAAAAAAAAAAAAAAAAAAAAAAAAAAAAAAAAAAAAAAAAAAAAAAAAAAAAAAAAAAAAAAAAAAAAAAAAAAAAAAAAAAAAAAAAAAAAAAAAAAAAAAAAAAAAAAAAAAAAAAAAAAAAAAAAAAAAAAAAAAAAAAAAAAAAAAAAAAAAAAAAAAAAAAAAAAAAAAAAAAAAAAAAAAAAAAAAAAAAAAAAAAAAAAAAAAAAAAAAAAAAAAAAAAAAAAAAAAAAAAAAAAAAAAAAAAAAAAAAAAAAAAAAAAAAAAAAAAAAAAAAAAAAAAAAAAAAAAAAAAAAAAAAAAAAAAAAAAAAAAAAAAAAAAAAAAAAAAAAAAAAAAAAAAAAAAAAAAAAAAAAAAAAAAAAAAAAAAAAAAAAAAAAAAAAAAAAAAAAAAAAAAAAAAAAAAAAAAAAAAAAAAAAAAAAAAAAAAAAAAAAAAAAAAAAAAAAAAAAAAAAAAAAAAAAAAAAAAAAAAAAAAAAAAAAAAAAAAAAAAAAAAAAAAAAAAAAAAAAAAAAAAAAAAAAAAAAAAAAAAAAAAAAAAAAAAAAAAAAAAAAAAAAAAAAAAAAAAAAAAAAAAAAAAAAAAAAAAAAAAAAAAAAAAAAAAAAAAAAAAAAAAAAAAAAAAAAAAAAAAAAAAAAAAAAAAAAAAAAAAAAAAAAAAAAAAAAAAAAAAAAAAAAAAAAAAAAAAAAAAAAAAAAAAAAAAAAAAAAAAAAAAAAAAAAAAAAAAAAAAAAAAAAAAAAAAAAAAAAAAAAAAAAAAAAAAAAAAAAAAAAAAAAAAAAAAAAAAAAAAAAAAAAAAAAAAAAAAAAAAAAAAAAAAAAAAAAAAAAAAAAAAAAAAAAAAAAAAAAAAAAAAAAAAAAAAAAAAAAAAAAAAAAAAAAAAAAAAAAAAAAAAAAAAAAAAAAAAAAAAAAAAAAAAAAAAAAAAAAAAAAAAAAAAAAAAAAAAAAAAAAAAAAAAAAAAAAAAAAAAAAAAAAAAAAAAAAAAAAAAAAAAAAAAAAAAAAAAAAAAAAAAAAAAAAAAAAAAAAAAAAAAAAAAAAAAAAAAAAAAAAAAAAAAAAAAAAAAAAAAAAAAAFJJVEhJQwAAAAWQAwACAAAAFAAAEKCQBAACAAAAFAAAELSSkQACAAAAAzc0AACSkgACAAAAAzc0AADqHAAHAAAIDAAACJQAAAAAHOoAAAAIAAAAAAAAAAAAAAAAAAAAAAAAAAAAAAAAAAAAAAAAAAAAAAAAAAAAAAAAAAAAAAAAAAAAAAAAAAAAAAAAAAAAAAAAAAAAAAAAAAAAAAAAAAAAAAAAAAAAAAAAAAAAAAAAAAAAAAAAAAAAAAAAAAAAAAAAAAAAAAAAAAAAAAAAAAAAAAAAAAAAAAAAAAAAAAAAAAAAAAAAAAAAAAAAAAAAAAAAAAAAAAAAAAAAAAAAAAAAAAAAAAAAAAAAAAAAAAAAAAAAAAAAAAAAAAAAAAAAAAAAAAAAAAAAAAAAAAAAAAAAAAAAAAAAAAAAAAAAAAAAAAAAAAAAAAAAAAAAAAAAAAAAAAAAAAAAAAAAAAAAAAAAAAAAAAAAAAAAAAAAAAAAAAAAAAAAAAAAAAAAAAAAAAAAAAAAAAAAAAAAAAAAAAAAAAAAAAAAAAAAAAAAAAAAAAAAAAAAAAAAAAAAAAAAAAAAAAAAAAAAAAAAAAAAAAAAAAAAAAAAAAAAAAAAAAAAAAAAAAAAAAAAAAAAAAAAAAAAAAAAAAAAAAAAAAAAAAAAAAAAAAAAAAAAAAAAAAAAAAAAAAAAAAAAAAAAAAAAAAAAAAAAAAAAAAAAAAAAAAAAAAAAAAAAAAAAAAAAAAAAAAAAAAAAAAAAAAAAAAAAAAAAAAAAAAAAAAAAAAAAAAAAAAAAAAAAAAAAAAAAAAAAAAAAAAAAAAAAAAAAAAAAAAAAAAAAAAAAAAAAAAAAAAAAAAAAAAAAAAAAAAAAAAAAAAAAAAAAAAAAAAAAAAAAAAAAAAAAAAAAAAAAAAAAAAAAAAAAAAAAAAAAAAAAAAAAAAAAAAAAAAAAAAAAAAAAAAAAAAAAAAAAAAAAAAAAAAAAAAAAAAAAAAAAAAAAAAAAAAAAAAAAAAAAAAAAAAAAAAAAAAAAAAAAAAAAAAAAAAAAAAAAAAAAAAAAAAAAAAAAAAAAAAAAAAAAAAAAAAAAAAAAAAAAAAAAAAAAAAAAAAAAAAAAAAAAAAAAAAAAAAAAAAAAAAAAAAAAAAAAAAAAAAAAAAAAAAAAAAAAAAAAAAAAAAAAAAAAAAAAAAAAAAAAAAAAAAAAAAAAAAAAAAAAAAAAAAAAAAAAAAAAAAAAAAAAAAAAAAAAAAAAAAAAAAAAAAAAAAAAAAAAAAAAAAAAAAAAAAAAAAAAAAAAAAAAAAAAAAAAAAAAAAAAAAAAAAAAAAAAAAAAAAAAAAAAAAAAAAAAAAAAAAAAAAAAAAAAAAAAAAAAAAAAAAAAAAAAAAAAAAAAAAAAAAAAAAAAAAAAAAAAAAAAAAAAAAAAAAAAAAAAAAAAAAAAAAAAAAAAAAAAAAAAAAAAAAAAAAAAAAAAAAAAAAAAAAAAAAAAAAAAAAAAAAAAAAAAAAAAAAAAAAAAAAAAAAAAAAAAAAAAAAAAAAAAAAAAAAAAAAAAAAAAAAAAAAAAAAAAAAAAAAAAAAAAAAAAAAAAAAAAAAAAAAAAAAAAAAAAAAAAAAAAAAAAAAAAAAAAAAAAAAAAAAAAAAAAAAAAAAAAAAAAAAAAAAAAAAAAAAAAAAAAAAAAAAAAAAAAAAAAAAAAAAAAAAAAAAAAAAAAAAAAAAAAAAAAAAAAAAAAAAAAAAAAAAAAAAAAAAAAAAAAAAAAAAAAAAAAAAAAAAAAAAAAAAAAAAAAAAAAAAAAAAAAAAAAAAAAAAAAAAAAAAAAAAAAAAAAAAAAAAAAAAAAAAAAAAAAAAAAAAAAAAAAAAAAAAAAAAAAAAAAAAAAAAAAAAAAAAAAAAAAAAAAAAAAAAAAAAAAAAAAAAAAAAAAAAAAAAAAAAAAAAAAAAAAAAAAAAAAAAAAAAAAAAAAAAAAAAAAAAAAAAAAAAAAAAAAAAAAAAAAAAAAAAAAAAAAAAAAAAAAAAAAAAAAAAAAAAAAAAAAAAAAAAAAAAAAAAAAAAAAAAAAAAAAAAAAAAAAAAAAAAAAAAAAAAAAAAAAAAAAAAAAAAAAAAAAAAAAAAAAAAAAAAAAAAAAAAAAAAAAAAAAAAAAAAAAAAAAAAAAAAAAAAAAAAAAAAAAAAAAAAAAAAAAAAAAAAAAAAAAAAAAAAAAAAAAAAAAAAAAAAAAAAAAAAAAAAAAAAAAAAAAAAAAAAAAAAAAAAAAAAAAAAAAAAAAAAAAAAAAAAAAAAAAAAAAAAAAAAAAAAAAAAAAAAAAAAAAAAAAAAAAAAAAAAAAAAAAAAAAAAAAAAAAAAAAAAAAAAAAAAAAAAAAAAAAAAAAAAAAAAAAAAAAAAAAAAAAAAAAAAAAAAAAAAAAAAAAAAAAAAAAAAAAAAAAAAAAAAAAAAAAAAAAAAAAAAAAAAAAAAAAAAAAAAAAAAAAAAAAAAAAAAAAAAAAAAAAAAAAAAAAAAAAAAAAAAAAAAAAAAAAAAAAAAAAAAAAAAAAAAAAAAAAAAAAAAAAAAAAAAAAAAAAAAAAAAAAAAAAAAAAAAAAAAAAAAAAAAAAAAAAAAAAAAAAAAAAAAAAAAAAAAAAAAAAAAAAAAAAAAAAAAAAAAAAAAAAAAAAAAAAAAAAAAAAAAAAAAAAAAAAAAAAAAAAAAAAAAAAAAAAAAAAAAAAAAAAAAAAAAAAAAAAAAAAAAAAAAAAAAAAAAAAAAAAAAAAAAAAAAAAAAAAAAAAAAAAAAAAAAAAAAAAAAAAAAAAAAAAAAAAAAAAAAAAAAAAAAAAAAAAAAAAAAAAAAAAAAAAAAAAAAAAAAAyMDIxOjAzOjA4IDE5OjAyOjQxADIwMjE6MDM6MDggMTk6MDI6NDEAAABSAEkAVABIAEkAQwAAAP/hCxlodHRwOi8vbnMuYWRvYmUuY29tL3hhcC8xLjAvADw/eHBhY2tldCBiZWdpbj0n77u/JyBpZD0nVzVNME1wQ2VoaUh6cmVTek5UY3prYzlkJz8+DQo8eDp4bXBtZXRhIHhtbG5zOng9ImFkb2JlOm5zOm1ldGEvIj48cmRmOlJERiB4bWxuczpyZGY9Imh0dHA6Ly93d3cudzMub3JnLzE5OTkvMDIvMjItcmRmLXN5bnRheC1ucyMiPjxyZGY6RGVzY3JpcHRpb24gcmRmOmFib3V0PSJ1dWlkOmZhZjViZGQ1LWJhM2QtMTFkYS1hZDMxLWQzM2Q3NTE4MmYxYiIgeG1sbnM6ZGM9Imh0dHA6Ly9wdXJsLm9yZy9kYy9lbGVtZW50cy8xLjEvIi8+PHJkZjpEZXNjcmlwdGlvbiByZGY6YWJvdXQ9InV1aWQ6ZmFmNWJkZDUtYmEzZC0xMWRhLWFkMzEtZDMzZDc1MTgyZjFiIiB4bWxuczp4bXA9Imh0dHA6Ly9ucy5hZG9iZS5jb20veGFwLzEuMC8iPjx4bXA6Q3JlYXRlRGF0ZT4yMDIxLTAzLTA4VDE5OjAyOjQxLjczODwveG1wOkNyZWF0ZURhdGU+PC9yZGY6RGVzY3JpcHRpb24+PHJkZjpEZXNjcmlwdGlvbiByZGY6YWJvdXQ9InV1aWQ6ZmFmNWJkZDUtYmEzZC0xMWRhLWFkMzEtZDMzZDc1MTgyZjFiIiB4bWxuczpkYz0iaHR0cDovL3B1cmwub3JnL2RjL2VsZW1lbnRzLzEuMS8iPjxkYzpjcmVhdG9yPjxyZGY6U2VxIHhtbG5zOnJkZj0iaHR0cDovL3d3dy53My5vcmcvMTk5OS8wMi8yMi1yZGYtc3ludGF4LW5zIyI+PHJkZjpsaT5SSVRISUM8L3JkZjpsaT48L3JkZjpTZXE+DQoJCQk8L2RjOmNyZWF0b3I+PC9yZGY6RGVzY3JpcHRpb24+PC9yZGY6UkRGPjwveDp4bXBtZXRhPg0KICAgICAgICAgICAgICAgICAgICAgICAgICAgICAgICAgICAgICAgICAgICAgICAgICAgICAgICAgICAgICAgICAgICAgICAgICAgICAgICAgICAgICAgICAgICAgICAgICAgIAogICAgICAgICAgICAgICAgICAgICAgICAgICAgICAgICAgICAgICAgICAgICAgICAgICAgICAgICAgICAgICAgICAgICAgICAgICAgICAgICAgICAgICAgICAgICAgICAgICAgCiAgICAgICAgICAgICAgICAgICAgICAgICAgICAgICAgICAgICAgICAgICAgICAgICAgICAgICAgICAgICAgICAgICAgICAgICAgICAgICAgICAgICAgICAgICAgICAgICAgICAKICAgICAgICAgICAgICAgICAgICAgICAgICAgICAgICAgICAgICAgICAgICAgICAgICAgICAgICAgICAgICAgICAgICAgICAgICAgICAgICAgICAgICAgICAgICAgICAgICAgIAogICAgICAgICAgICAgICAgICAgICAgICAgICAgICAgICAgICAgICAgICAgICAgICAgICAgICAgICAgICAgICAgICAgICAgICAgICAgICAgICAgICAgICAgICAgICAgICAgICAgCiAgICAgICAgICAgICAgICAgICAgICAgICAgICAgICAgICAgICAgICAgICAgICAgICAgICAgICAgICAgICAgICAgICAgICAgICAgICAgICAgICAgICAgICAgICAgICAgICAgICAKICAgICAgICAgICAgICAgICAgICAgICAgICAgICAgICAgICAgICAgICAgICAgICAgICAgICAgICAgICAgICAgICAgICAgICAgICAgICAgICAgICAgICAgICAgICAgICAgICAgIAogICAgICAgICAgICAgICAgICAgICAgICAgICAgICAgICAgICAgICAgICAgICAgICAgICAgICAgICAgICAgICAgICAgICAgICAgICAgICAgICAgICAgICAgICAgICAgICAgICAgCiAgICAgICAgICAgICAgICAgICAgICAgICAgICAgICAgICAgICAgICAgICAgICAgICAgICAgICAgICAgICAgICAgICAgICAgICAgICAgICAgICAgICAgICAgICAgICAgICAgICAKICAgICAgICAgICAgICAgICAgICAgICAgICAgICAgICAgICAgICAgICAgICAgICAgICAgICAgICAgICAgICAgICAgICAgICAgICAgICAgICAgICAgICAgICAgICAgICAgICAgIAogICAgICAgICAgICAgICAgICAgICAgICAgICAgICAgICAgICAgICAgICAgICAgICAgICAgICAgICAgICAgICAgICAgICAgICAgICAgICAgICAgICAgICAgICAgICAgICAgICAgCiAgICAgICAgICAgICAgICAgICAgICAgICAgICAgICAgICAgICAgICAgICAgICAgICAgICAgICAgICAgICAgICAgICAgICAgICAgICAgICAgICAgICAgICAgICAgICAgICAgICAKICAgICAgICAgICAgICAgICAgICAgICAgICAgICAgICAgICAgICAgICAgICAgICAgICAgICAgICAgICAgICAgICAgICAgICAgICAgICAgICAgICAgICAgICAgICAgICAgICAgIAogICAgICAgICAgICAgICAgICAgICAgICAgICAgICAgICAgICAgICAgICAgICAgICAgICAgICAgICAgICAgICAgICAgICAgICAgICAgICAgICAgICAgICAgICAgICAgICAgICAgCiAgICAgICAgICAgICAgICAgICAgICAgICAgICAgICAgICAgICAgICAgICAgICAgICAgICAgICAgICAgICAgICAgICAgICAgICAgICAgICAgICAgICAgICAgICAgICAgICAgICAKICAgICAgICAgICAgICAgICAgICAgICAgICAgICAgICAgICAgICAgICAgICAgICAgICAgICAgICAgICAgICAgICAgICAgICAgICAgICAgICAgICAgICAgICAgICAgICAgICAgIAogICAgICAgICAgICAgICAgICAgICAgICAgICAgICAgICAgICAgICAgICAgICAgICAgICAgICAgICAgICAgICAgICAgICAgICAgICAgICAgICAgICAgICAgICAgICAgICAgICAgCiAgICAgICAgICAgICAgICAgICAgICAgICAgICAgICAgICAgICAgICAgICAgICAgICAgICAgICAgICAgICAgICAgICAgICAgICAgICAgICAgICAgICAgICAgICAgICAgICAgICAKICAgICAgICAgICAgICAgICAgICAgICAgICAgICAgICAgICAgICAgICAgICAgICAgICAgICAgICAgICAgICAgICAgICAgICAgICAgICAgICAgICAgICAgICAgICAgICAgICAgIAogICAgICAgICAgICAgICAgICAgICAgICAgICAgICAgICAgICAgICAgICAgICAgICAgICAgICAgICAgICAgICAgICAgICAgICAgICAgICAgICAgICAgICAgICAgICAgICAgICAgCiAgICAgICAgICAgICAgICAgICAgICAgICAgICA8P3hwYWNrZXQgZW5kPSd3Jz8+/9sAQwAHBQUGBQQHBgUGCAcHCAoRCwoJCQoVDxAMERgVGhkYFRgXGx4nIRsdJR0XGCIuIiUoKSssKxogLzMvKjInKisq/9sAQwEHCAgKCQoUCwsUKhwYHCoqKioqKioqKioqKioqKioqKioqKioqKioqKioqKioqKioqKioqKioqKioqKioqKioq/8AAEQgAQAKxAwEiAAIRAQMRAf/EAB8AAAEFAQEBAQEBAAAAAAAAAAABAgMEBQYHCAkKC//EALUQAAIBAwMCBAMFBQQEAAABfQECAwAEEQUSITFBBhNRYQcicRQygZGhCCNCscEVUtHwJDNicoIJChYXGBkaJSYnKCkqNDU2Nzg5OkNERUZHSElKU1RVVldYWVpjZGVmZ2hpanN0dXZ3eHl6g4SFhoeIiYqSk5SVlpeYmZqio6Slpqeoqaqys7S1tre4ubrCw8TFxsfIycrS09TV1tfY2drh4uPk5ebn6Onq8fLz9PX29/j5+v/EAB8BAAMBAQEBAQEBAQEAAAAAAAABAgMEBQYHCAkKC//EALURAAIBAgQEAwQHBQQEAAECdwABAgMRBAUhMQYSQVEHYXETIjKBCBRCkaGxwQkjM1LwFWJy0QoWJDThJfEXGBkaJicoKSo1Njc4OTpDREVGR0hJSlNUVVZXWFlaY2RlZmdoaWpzdHV2d3h5eoKDhIWGh4iJipKTlJWWl5iZmqKjpKWmp6ipqrKztLW2t7i5usLDxMXGx8jJytLT1NXW19jZ2uLj5OXm5+jp6vLz9PX29/j5+v/aAAwDAQACEQMRAD8A+kaKKKACiiigAooooAKKKKACiiigAooooAKKKKACiiigAooooAKKKKACmRzRzAmGRJApKkqwOD6VV1Wwh1CyaO4MmxQWwjlc8d8Vw3wOJb4dsWZmP2+45Y5P3/WgD0aiiigAooooAKKKKACiiigAooooAKKKKACiiigAooooAKKKKACiiigAooooAKKKKACiiigAooooAKKKKACiiigAooooAKKKKAGSyxwRmSaRY0HVnOAPxp4ORkcivMPjdYxR+EYr9HlE7ajap/rTtA39MdK9Ktf+POH/AK5r/KgCWiiigAooooAKKKKACiiigAooooAKKKKACiiigAooooAKKKKACiiigAooooAKKKKACiiigAooooAKKKKACiiigAooooAKKjluYIWVZpo42c4UO4Bb6U8MGGVII9QaAFpkc0crOsbqxjO1gD0PXFYvi/Wn0TQHlthuuriRbe3X1kc4FWrcWPhzR4Y7y7igjXh57iQL5jnkkk9ycmgDTpskiRLukYIucZJxVOLW9KntJLqHUrSS3i/1kyzqUT6nOBRHdabrlnLHbXNvewMNj+VIrgZ7HFAF6iub8IanLL/aOjXrtJdaRceQXY5MkRAaNj6nawBPcg10lABRRRQAUUUUAFFFFAEVy6pbSF2Cjaepx2rzz4GSIfh6yh1J+33HGf8Abrvr/TbPVIBDqFulxGDna44zVPTPC+h6NIJNJ0u2s2GT+4Tb169KANamJNHI7ojqzIcMAelZPizW/wCwPDlxeou6biOFf7zscKKksI7Xw7ocQ1C7jiIAM9xO4UPIeWJJ9T+nFAGrRVGDW9KubeW4t9StJYYRmWRJ1ZUHuQeKkstUsNSVm069t7sIcMYJVfb9cGgC1RRRQAUUUUAFFV5L+0hvIrSa6hS5mBMcLOA7gdcDqafLd28E0cU08UckpxGjuAXPoB3oAlpqyo0jIrgun3lB5FOrmPF9w2hfZfEEOQLeVYrtR/HCxxz7qSCPxoA2da1i10HSZtRv2KwQgbtoySSQAAPXJFXI5BLEsi9GAIzXCfEm2tdUl8OWFwD5N3qKmWTeyqIkRpCDg45KKKu+MvC0/iXwG+n+HtRvNIukTfaTQzujBh0DEHJB96AOwozXzl8INSt9W1W78I+PrjWIvENrIwR31e6TzgDyMCQDI9uoru/F3gG60ibTtb8L6zritaXkRuLJ9QmmjmiLANwxJ4zn6ZoA9SorK1FdfeZG0i40+KHbyt1bu7Z+quv8qis4/E4u4zf3elPb5+dYbWRWI9iZCB+VADbvxRBZ+JrLRZLS5828LhJimI/lAJwe/UVuVw3iu/s4viN4UWW6gRo2uN4aQArlFxn0zXS+I9aj0Dw3e6qwD+RFuRc/fY8KPxJAoA0VmjaVo1dS6gFlB5FPrF0aOLRfD6XGq3MaSyAS3VxM4UF29Seg7AVcttb0q9SR7PUrSdYhukaKdWCD1ODxQBeoqpY6tp2plxp1/bXZTG8QTK+3PTODxVugAooooAKKKrz39pbXEMFzdQxTTnbFG7gNIfQDvQBYoqKe7t7YoLmeKEyNtQSOF3H0GepqWgBolQymMMN4GSueQKdXM+NZX0jTF8RWoPm6YwkmC/8ALSDP7xT6/Lkj3Aro4JkuLeOaI5SRQyn1BoAfRRRQAUUUUAeb/HKRB4BhUuoP9p2vGf8Abr0KzdXs4SjBhsXoc9qz9T8LaHrMpk1bS7a8YkH98m7p04NXLDTbPS4DDp9ulvGTnag4oAtdOtHWub+IMCzeAtXfzJo3htZJI3hneJlYLwcqQaTwZqEcfw70C41K7VWksIS0s8uCxKDJJJ5NAHS0VD9stfOWL7TD5jDKp5g3H8KmoAjjuYZpZYopVeSEhZFB5QkZwfwIqTNcr4cXd4u8WKc4N3EODj/lhHXhvjOHWfhl8UILjxFqes6n4R1CQ7D/AGlOhhyeRlHHK/qKAPpzNFcKPAOga7oqXGk6vrcMdzHuiubfWbhiARwRucj9Ks/DC01XTfCb6br1zcXd3ZXc0P2m5Ys0qhztbJ5IIxQB18sqQxNLKwREG5mY4AHrRHIksayRsGRhlWB4IrL8Vf8AIo6r/wBekn/oJp/hv/kV9M/69Y//AEEUAadFFZLa2V8XJonk8NafafN3f7RXGPwoA1qKKwPHVus/gXWCzzRtDZTSxvDM8TKyoSDlSD1oA3+vSiuV8BaiifDTQbnU7xQ0llEWluJeWO0dSTya6T7ba+asX2mHzGGVTzBkj2FAE1FFcf8AFW/TS/htq18XmSWKE+Q0MzxsJDwvKkHqRQB2GaK4vw94Pt4PBNgmtXeoyXi2aG5uG1KcMX25Y8P65rM+Fniq+vvBWr3+tzyXFnp15cJbXcg+aaBOQSe+ORnvQB6J50YmEW9fMI3Bc849afXPeDhLd6SNZvQftWonzSD/AMs0/hQewFb6SJJnYytg4ODnB9KAHUE4BJ6CmvLHG6q8iqznCgnBb6etOoAbHIkqB42DKehByDTq5eyujo/jmXRCT9lv4TdWo7IwPzqPbvXUUAFFFFABRRRQAUUUUAFQ3lwLSxnuGGRDGzkeuBmpqoa5qNjpWh3d7qzbLKKM+ccZ+U8dPxoA4Dwze/bvh3q/jTxABLNeRzzRq/IhhTIRF9Omfqa2/A9nfaV8NNMhimjbUZ4xKDeSHDMx3HJ5J4rnfFWkRjwhpnhfQL6Wa31S5jENqoGUgLiRySOdoGRz6itvxfZkaz4etYoJTAs6ySOg4xENyxj0LMqigB/xCLHVvCUZGUbV03jtwOK63UdMstWsntNSto7mBxgpIoYdMVheOtMm1DQIbq0TN1p1xHeRp3JQ5I/Kr+oQ3HiHQom0bV5dNE6hxcQxq7FSOnzDjr9eKAPAptngHxdeeB3vUHg7V7pEmvPJLfZWbJMJfGATjGSeAc19DaRo+m6Lp8dto9pDbW4UYWJQAeOD71yt38MLO++HM3hK8vpJkmfe148KGUtuzu6Y3e/Wtbwj4aufCWjrYXOu3Op20EYWH7SigxqP9oDJ/GgDK0Quvxl8TooxG1laO3HVsMP5Cu1mKiCQu/lrtOXzjaMdc1y3g20e41TXPEUowNUuQtvnvDEoRT9CQWHsRXWdetAHmj3vg/e2fiZdqc8j+1oeP/HaT7b4O/6Kbd/+DaH/AOJr0j7NB/zxj/74FH2aD/njH/3wKAK2jtbvo9s1letfwFPkuWkDmQeu4cGmaxcapbWyNo1jDezFsMks/lAD1zg1fACqAoAA6AUtAHLf2r4z/wChbsf/AAY//Y1f0i98Q3F2V1jSLayg25EkV35pJ9MYFbVFAGFql34oivmXR9L025tsDElxetGxPf5Qh/nVVL7xuXG/Q9HC55I1Jzgf9+q1tS1YWVxBaQRfaLy4DGKEMF4XqxJ6AZH5isu08XqPFCeHtZs2sL+eMy23zh0nUddpHcelAGZ8TC5g8PR7co+swCQY4xmuwvbC11K0e2v7eO4gcfNHIoYH8DWJ460iXV/C8i2ozdWsiXMI9WQ5xVufz/Efh2GXSNTl01rhVcTxxq7KMcrhhgHP8qAPA9UC/DPxjqHhe0vEXwnrcqR3lz5Jf+zy55QtjGSMgZPHXtz9A6Domk6HpkVvodrDb22wbTEo+cY4JPeucPw1tpvh/feF73UJbtb1meS8lhQyEkg56YJ469a0PBXhK58H6Wmmtrt1qdpCgSBLlEBjH+8Bk/jQBsatPqNvZ79Hs4ryfcB5cs3ljHrnBrE/tXxn/wBC3Y/+DH/7GupooAw9KvvEdxehNW0a1s7fBzJHeeYc9uNorcoqC+uVstPuLmQ4WGNnJ+gzQB41prnxX+1Tf3Gd1t4dsBCvPAdv/wBpvypPEN0mv/tM6XbT3CxWHhyze7uHd9qIcHknoMHbVD4IeHdV1f8At3xpa6tNp8urX0qFDCrh4wchvm7gsRXaj4OWC+IL3Uxq1451OMR6ikmGNwoYMRnqoOMEDtQB3dzPO/2cadJbMXdWfzH6x9yuOp/SsX4jqG+HOt5GcWxI+uRiszU7Zh8TNLWO3mFvawmYMBxI5+QKD6KOSK0PHsb6lo8Og2/M2pzLGcfwxghnb6YGPxoA1tFjW68N6Y13GsjfZom+dc4Owc81p8AegFMhiWCCOJOFjUKPoBisbxd4em8UaDLpcOrXOlrNxJLagb2XuuT0zQB5tr3gvTviV8TbPWtAaWzi0uTbd6rAdq3DqeEj/vEYwW6dua9P8Qa9beGtJS7vMuGmjgRQQGd3YKAM/n+FctY/DjWdNsYrOw8c6nb28KhI447eIKoHYDFVLn4RT6nrmn6jrvjHV9SGnzrPFbzbRHuHsBQB6Ddahb2Qt/tLlDcSLFGApbLHoOP51ZrmLzXL2Lx5p+jxLEYJkklmBGSkajAbPYlyoA+tdPQBWl02xnm82ezt5JP77xKT+ZFcl8Vy6+DYEjXKPqVmrgD+Hz0/+tXbVheNNFfX/CF9YQf69lEkH/XRGDr+qigDWltbe8svs93DHNCygNHIoZT+Br548Tx/8Km8dX9roE0a+H9bC/bwITJ/Zu84ycDABGcAmvcraafxD4TgfTr99PnlRQZkjV2jYfeGG4z1FZFn8O4ofCeraLf6lLqLao7vNd3EKGTLevGDjtnpQBs+FtC0TQ9Et08OwQLbPEpWaIDMw67iw65zn8av6nNfQWLvpVrHd3II2xSS+WDzz82DXOeBPA9x4H09dOj1+81HT41Iit7mNP3ZJzwwGce3TmuuoA5b+1fGf/Qt2P8A4Mf/ALGrem3/AImmvkTU9EtbW2P3pY73zCPw2it6igArxTU2Pin9qTTrMMWtvD9oZmGeA5GR+pFe0yOI42dzhVBJPtXgfwl0bU/FHjLxP43tNUksHnvHt4wYVdZEz/tenFAGn8RJ/wDhIPj34V0HzdltpkZvrk7sKvfn8AK9eubqSa0hfSZ7WR5irI0knyumRkqRnPHSuHuPhDazeJptd/tq9N7eQGC9dwrecp64/ucDHHarPiCwWHxh4cs7a2lW0tlaYsoOGMYCRxA9vvsx+lAHReMkWTwLriyAFTp8+Qf+uZqPwPJJL4C0R58+Y1lEWyO+0VW8fGW68KT6Ra/8ferj7FGPQPw7fRV3H8K6CxtEsdPgtYhhIY1RR7AYoAqazc6vbRxnRNPhvmJO8S3HlbR2xwc1kf2r4z/6Fux/8GP/ANjXU0UAZGj3mu3M0g1rSreyjC/I0V15pY+mMDFashcRsYwGfHygnAJp1FAHLm/8cZONC0fHb/iZP/8AGqvaRdeJJrwrremafa2+0kPbXjStu9MFF4/Gkm1y6nkuF0TTxfC2bZIxmCAuBkqM9TR4X8U2Ximwmns1eKa2lMFzbyffhkHVTQBH47/5J/rn/XjL/wCgmuJ1qCKX9me3eSNWeLR4GjYjJU7V5Feg+I9Hk1/QrnTEvXs0uUMckiIrHaRgjmsK58By3Pw/Xwm+tzi1WFYPOECbzGoAA6Y7daAOd8bRCw+D+mX9t8l5FLYyLcDh9xkQE59wSK9QgJa3jJ5JQE/lXI6z4Dn1vwjbeH7nXZ1ggMZMiwR7n8sqU7cYKiuqsoJbazjhnnNw6KAZCoXd+A4oA53w1/yOHiv/AK/Iv/REdZ3xSXSdY8Ot4Zu7Q6jqOoqfsdpF99WH/LUn+BVzyx+laHhsE+LvFgBwftcWD6fuI6xIvhdqNvrd7q1t411SO7vWzJJ5MZIUdFBI4UZ6UAbHw28GSeBPBlvo89/JeSKS7Fz8qE9VX2rV0TxHa69Z3d1aELDbXMluJGYbXKMVLAjtkVy998Odd1G0e2n+IWtrHIMN5axoSPTIFRzeEk8C/CeTSNIa4v3t9xjeQZJZz95gOwzn8KAOl1s3Z8CakdQ8nzzaSlvIJKYwcYJA7Yq54b/5FfTP+vWP/wBBFZE8C2nwtntYw+y305oVZzy4VMbvxxn8a1/Df/Ir6Z/16x/+gigCLWLzX7a4RdG0m3vYiuWeW68og+mMGuKk1LxX/wALOjc6BZ/aP7MwI/t/G3zG5zt/SvTawX0m6bx/HqwVfsq6f5BO7nfvY9PoaAJdHvNfubl11nSbeyhC5V4rrzST6YwKTxn/AMiJrv8A2Dp//RbVtVm+INKk1zQ7rTY7x7NbqJopJEQMdrAggZ9jQB51cwRTfsyRNLGrtHoyshYZ2nYORTvF0Qsvghp1/B8t4iWcouB9/cSuTn8TXRt4Blb4fjwn/bk/2UQC387yE3+XjGOmPxo1bwFNq/gu38N3GuzrbwiNTKsEe51TG0dO22gDrbRy9lA7HLNGpJ98V5x8XAdZv/C/hVGYf2nqSPNt6+VH8x/lXoen20tpYRW89wbl41CmUoFLY9hxXMXXgW4vPG1p4lm12c3FnG0UMX2ePYqt17dfegDWvfDMWo25t73UdQlt2GHh80Krj0OFBx+NZXjq0h0j4Uaxa6VAtvDDZMiRxLgKvQ8fTNdfVLWdOTV9DvdOkOFuoHiJ9NwIzQBli+/sn4epdwhQ0FgGjB6btnH61FPcf8If4d0+3tIDeT3FxHAAz4Mjufmcn8zUWg2ia74AbQ9WDLJHC1jdKDhlIGMj8MEGs1vhjLeWgXWfE2pX11Bg2VwxCm1I6MoHBb1JoA1PFOl22p+JPDZLMLy1unnTaxH7sLhsj0yVrehkuZNSm+a3azVAE2MTIHzznsBjFZGgeFn0nz7jU9UutW1CdPLa6nwCqdlUDhRznjvWZ4AjkF5rNzNBLC9zdHEbjHlInyoD7nlqAJPEIx8T/CDKOT9rVj7eSx/nXY1yf2c6v8TI7xebfRrZo93YyydR+C11lABRRRQAUUUUAFFFFABTJoYriFop40ljcYZHUEEe4NPooArWum2Nk7PZ2dvbswwzRRKpI98CrNFFAAeetV7OxgsEkS1UpG7l9meFJ64HbJ5+pNWKKACobu1jvbZ4J9xjfhgrEZHpkVNRQA2ONIo1jiUIiAKqqMAAdhTqKKACiiigAooooAKKKKAMm/8ADWmajr+n61dws17pocW8gkZQocYbIBweneuSl02Xxd8WdP1qAbdL8PxyIs3/AD8TMMEL7L3Navj++8UwWEFv4R8OvrBnYi5IvYrfYnoC7A5PsDxn2rJ8M3/ju91jT7PVvBUXhzSbclpJY9Shn3YU7V2oc9cc0AeiVXtbGCyMv2ZfLWVy5QH5Qx6kDtnr9easUUAFFFFABRRRQAUjosiFJFDKwwVYZBFLRQBFa2lvY2y29lbxW8CfdiiQIq/QDipaKKACq62UC3z3mzM7KE3sc7V9B6VYooAKKKKACiiigDMm8PafPrg1aSNvtWwRsdxwwU5XI9jzWnRRQAUUUUAV7exgtZ5pbddhnbc6g/KW9cetWKKKACiiigAooooACAQQRkHqDUNpZWthB5NjbQ20WSdkMYRcnqcCpqKACiiigCA2UBvxeMm6dU2KxOdo749M1PRRQAUUUUAFFFFAHPw6Zongu31bVLeNoReTG5uP3jN5kmMYUE9T6D1rG+Gfhu80iDV9X1VPJvNcvDdNAD/ql/hU++OtZfiPVPH7eKnbT/h9/aunWp/0V5dWt4g7d5CpYn6Z6fjXT+DLjxLfxXt74u0kaPPJIqw2a3SThEA67lOOSf0oA6aiiigAooooAq2umWtneXd1bx7Zrxw8zbidxChR9OAKtUUUAFFFFAEN3aw31nNa3K74ZkKOucZBGDS21vFZ2sVtbrtiiQIi5zgAYFS0UAFFFFABRRRQAUUUUAFFFFABRRRQBXWxgjv3vI12SyLtcg4D46ZHqPWrFFFABQRkEUUUAQWdlBYW/k2qbFyWPOSxPUknkn3qeiigAooooA//2Q==)"
      ]
    },
    {
      "cell_type": "code",
      "metadata": {
        "id": "U4l2Utv2H-ve"
      },
      "source": [
        "def gi(x,mean,cov,p_w):\r\n",
        "  t1=-0.5 *(np.subtract(x,mean)).T @ np.linalg.inv(cov) @ np.subtract(x,mean)\r\n",
        "  t2=-0.5 *np.log(np.linalg.det(cov))\r\n",
        "  t3=np.log(p_w)\r\n",
        "  return t1+t2+t3\r\n",
        " "
      ],
      "execution_count": 33,
      "outputs": []
    },
    {
      "cell_type": "code",
      "metadata": {
        "id": "qwdoEpbdDZ1T"
      },
      "source": [
        "from sympy import Matrix, solve, symbols"
      ],
      "execution_count": 34,
      "outputs": []
    },
    {
      "cell_type": "code",
      "metadata": {
        "id": "e8yX9xsjKGy0"
      },
      "source": [
        "x,y=symbols('x y')"
      ],
      "execution_count": 35,
      "outputs": []
    },
    {
      "cell_type": "code",
      "metadata": {
        "id": "WTP0v6ZGLGo0"
      },
      "source": [
        "M=Matrix([x,y])"
      ],
      "execution_count": 75,
      "outputs": []
    },
    {
      "cell_type": "code",
      "metadata": {
        "colab": {
          "base_uri": "https://localhost:8080/",
          "height": 58
        },
        "id": "5FDHJNoLLLo0",
        "outputId": "c660b885-398b-449a-dc7b-957ccbcae805"
      },
      "source": [
        "M"
      ],
      "execution_count": 76,
      "outputs": [
        {
          "output_type": "execute_result",
          "data": {
            "text/latex": "$\\displaystyle \\left[\\begin{matrix}x\\\\y\\end{matrix}\\right]$",
            "text/plain": [
              "Matrix([\n",
              "[x],\n",
              "[y]])"
            ]
          },
          "metadata": {
            "tags": []
          },
          "execution_count": 76
        }
      ]
    },
    {
      "cell_type": "code",
      "metadata": {
        "colab": {
          "base_uri": "https://localhost:8080/",
          "height": 58
        },
        "id": "9HrdjjNZLheV",
        "outputId": "8360f56c-6aa0-4cc7-9114-3bd414937ebc"
      },
      "source": [
        "\r\n"
      ],
      "execution_count": 89,
      "outputs": [
        {
          "output_type": "execute_result",
          "data": {
            "text/latex": "$\\displaystyle \\left[\\begin{matrix}x - 3.0\\\\y - 6.0\\end{matrix}\\right]$",
            "text/plain": [
              "Matrix([\n",
              "[x - 3.0],\n",
              "[y - 6.0]])"
            ]
          },
          "metadata": {
            "tags": []
          },
          "execution_count": 89
        }
      ]
    },
    {
      "cell_type": "code",
      "metadata": {
        "id": "inmBBPo9LM20"
      },
      "source": [
        "g1=gi(M,w1_mean.reshape(2,1),w1_cov,0.5)\r\n",
        "g2=gi(M,w2_mean.reshape(2,1),w2_cov,0.5)"
      ],
      "execution_count": 90,
      "outputs": []
    },
    {
      "cell_type": "code",
      "metadata": {
        "colab": {
          "base_uri": "https://localhost:8080/"
        },
        "id": "q5ViJsJyOFGx",
        "outputId": "135b9613-aa69-435f-9fc7-4a041d65b308"
      },
      "source": [
        "g1"
      ],
      "execution_count": 102,
      "outputs": [
        {
          "output_type": "execute_result",
          "data": {
            "text/plain": [
              "array([[(0.5625 - 0.1875*x)*(x - 3.0) + (1.125 - 0.1875*y)*(y - 6.0) - 1.67397643357167]],\n",
              "      dtype=object)"
            ]
          },
          "metadata": {
            "tags": []
          },
          "execution_count": 102
        }
      ]
    },
    {
      "cell_type": "code",
      "metadata": {
        "colab": {
          "base_uri": "https://localhost:8080/"
        },
        "id": "layDofLWOOuk",
        "outputId": "cab7752b-fd83-4932-b83c-a989d9d16cb6"
      },
      "source": [
        "g2"
      ],
      "execution_count": 103,
      "outputs": [
        {
          "output_type": "execute_result",
          "data": {
            "text/plain": [
              "array([[(0.5625 - 0.1875*x)*(x - 3.0) + (-0.1875*y - 0.375)*(y + 2.0) - 1.67397643357167]],\n",
              "      dtype=object)"
            ]
          },
          "metadata": {
            "tags": []
          },
          "execution_count": 103
        }
      ]
    },
    {
      "cell_type": "code",
      "metadata": {
        "id": "Y3V917DRPEqk"
      },
      "source": [
        "g=np.subtract(g1[0][0],g2[0][0])"
      ],
      "execution_count": 104,
      "outputs": []
    },
    {
      "cell_type": "code",
      "metadata": {
        "colab": {
          "base_uri": "https://localhost:8080/"
        },
        "id": "yFY4GPFfPabD",
        "outputId": "13122c97-8536-455a-f102-e1ff7a43e3c3"
      },
      "source": [
        "print(g)"
      ],
      "execution_count": 105,
      "outputs": [
        {
          "output_type": "stream",
          "text": [
            "(1.125 - 0.1875*y)*(y - 6.0) - (-0.1875*y - 0.375)*(y + 2.0)\n"
          ],
          "name": "stdout"
        }
      ]
    },
    {
      "cell_type": "code",
      "metadata": {
        "colab": {
          "base_uri": "https://localhost:8080/"
        },
        "id": "yd6XIONRPawz",
        "outputId": "e2f52aa8-54c7-4efa-d609-c88634ba22ab"
      },
      "source": [
        "solve(g,(x,y))"
      ],
      "execution_count": 106,
      "outputs": [
        {
          "output_type": "execute_result",
          "data": {
            "text/plain": [
              "[(x, 2.00000000000000)]"
            ]
          },
          "metadata": {
            "tags": []
          },
          "execution_count": 106
        }
      ]
    },
    {
      "cell_type": "code",
      "metadata": {
        "id": "214BDVJ4RyYh"
      },
      "source": [
        ""
      ],
      "execution_count": null,
      "outputs": []
    }
  ]
}