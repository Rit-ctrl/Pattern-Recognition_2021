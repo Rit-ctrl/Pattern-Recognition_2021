{
 "cells": [
  {
   "cell_type": "code",
   "execution_count": 23,
   "id": "207b9b34",
   "metadata": {},
   "outputs": [],
   "source": [
    "import matplotlib.pyplot as plt"
   ]
  },
  {
   "cell_type": "code",
   "execution_count": 24,
   "id": "82c98b5e",
   "metadata": {},
   "outputs": [],
   "source": [
    "img=plt.imread('poly1.png')"
   ]
  },
  {
   "cell_type": "code",
   "execution_count": 25,
   "id": "d5d4cb8e",
   "metadata": {},
   "outputs": [
    {
     "data": {
      "text/plain": [
       "array([[[1.        , 1.        , 1.        ],\n",
       "        [1.        , 1.        , 1.        ],\n",
       "        [1.        , 1.        , 1.        ],\n",
       "        ...,\n",
       "        [1.        , 1.        , 1.        ],\n",
       "        [1.        , 1.        , 1.        ],\n",
       "        [1.        , 1.        , 1.        ]],\n",
       "\n",
       "       [[1.        , 1.        , 1.        ],\n",
       "        [1.        , 1.        , 1.        ],\n",
       "        [1.        , 1.        , 1.        ],\n",
       "        ...,\n",
       "        [1.        , 1.        , 1.        ],\n",
       "        [1.        , 1.        , 1.        ],\n",
       "        [1.        , 1.        , 1.        ]],\n",
       "\n",
       "       [[1.        , 1.        , 1.        ],\n",
       "        [1.        , 1.        , 1.        ],\n",
       "        [1.        , 1.        , 1.        ],\n",
       "        ...,\n",
       "        [1.        , 1.        , 1.        ],\n",
       "        [1.        , 1.        , 1.        ],\n",
       "        [1.        , 1.        , 1.        ]],\n",
       "\n",
       "       ...,\n",
       "\n",
       "       [[0.12156863, 1.        , 0.12156863],\n",
       "        [0.        , 1.        , 0.        ],\n",
       "        [0.        , 1.        , 0.        ],\n",
       "        ...,\n",
       "        [0.        , 1.        , 0.        ],\n",
       "        [0.        , 1.        , 0.        ],\n",
       "        [0.38431373, 1.        , 0.38431373]],\n",
       "\n",
       "       [[0.59607846, 1.        , 0.59607846],\n",
       "        [0.        , 1.        , 0.        ],\n",
       "        [0.        , 1.        , 0.        ],\n",
       "        ...,\n",
       "        [0.        , 1.        , 0.        ],\n",
       "        [0.03921569, 1.        , 0.03921569],\n",
       "        [0.81960785, 1.        , 0.81960785]],\n",
       "\n",
       "       [[1.        , 1.        , 1.        ],\n",
       "        [0.6862745 , 1.        , 0.6862745 ],\n",
       "        [0.32156864, 1.        , 0.32156864],\n",
       "        ...,\n",
       "        [0.3764706 , 1.        , 0.3764706 ],\n",
       "        [0.81960785, 1.        , 0.81960785],\n",
       "        [1.        , 1.        , 1.        ]]], dtype=float32)"
      ]
     },
     "execution_count": 25,
     "metadata": {},
     "output_type": "execute_result"
    }
   ],
   "source": [
    "img"
   ]
  },
  {
   "cell_type": "code",
   "execution_count": 26,
   "id": "83daadb7",
   "metadata": {},
   "outputs": [
    {
     "data": {
      "text/plain": [
       "(322, 322, 3)"
      ]
     },
     "execution_count": 26,
     "metadata": {},
     "output_type": "execute_result"
    }
   ],
   "source": [
    "img.shape"
   ]
  },
  {
   "cell_type": "code",
   "execution_count": 27,
   "id": "b1f4e617",
   "metadata": {},
   "outputs": [
    {
     "data": {
      "text/plain": [
       "<matplotlib.image.AxesImage at 0x164e4deee10>"
      ]
     },
     "execution_count": 27,
     "metadata": {},
     "output_type": "execute_result"
    },
    {
     "data": {
      "image/png": "[encoded data removed]",
      "text/plain": [
       "<Figure size 432x288 with 1 Axes>"
      ]
     },
     "metadata": {
      "needs_background": "light"
     },
     "output_type": "display_data"
    }
   ],
   "source": [
    "plt.imshow(img)"
   ]
  },
  {
   "cell_type": "code",
   "execution_count": null,
   "id": "bb91df15",
   "metadata": {},
   "outputs": [],
   "source": []
  }
 ],
 "metadata": {
  "kernelspec": {
   "display_name": "Python 3",
   "language": "python",
   "name": "python3"
  },
  "language_info": {
   "codemirror_mode": {
    "name": "ipython",
    "version": 3
   },
   "file_extension": ".py",
   "mimetype": "text/x-python",
   "name": "python",
   "nbconvert_exporter": "python",
   "pygments_lexer": "ipython3",
   "version": "3.7.1"
  }
 },
 "nbformat": 4,
 "nbformat_minor": 5
}
